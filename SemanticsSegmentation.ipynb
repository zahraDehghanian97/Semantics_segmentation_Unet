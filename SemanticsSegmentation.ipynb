{
  "nbformat": 4,
  "nbformat_minor": 0,
  "metadata": {
    "colab": {
      "provenance": []
    },
    "kernelspec": {
      "name": "python3",
      "display_name": "Python 3"
    },
    "language_info": {
      "name": "python"
    }
  },
  "cells": [
    {
      "cell_type": "markdown",
      "source": [
        "**Name:**\n",
        "\n",
        "**Student ID:**"
      ],
      "metadata": {
        "id": "4zqIq6GB8Ahm"
      }
    },
    {
      "cell_type": "markdown",
      "source": [
        "In this practical assignment, we will develope a U-Net for semantis segmentation of lung CT-scans.\n",
        "\n",
        "For this task, you will use a dataset consisting of CT-scans from lungs of COVID-19 patients. The regions affected by COVID-19 are marked with labels of ground glass opacity. You will be training and testing the U-Net model on this dataset."
      ],
      "metadata": {
        "id": "pYQ0IPHN9d9b"
      }
    },
    {
      "cell_type": "markdown",
      "source": [
        "## Imports"
      ],
      "metadata": {
        "id": "c5xp7PvBBJZl"
      }
    },
    {
      "cell_type": "code",
      "source": [
        "# Import any needed packages here\n",
        "import torch\n",
        "import numpy as np\n",
        "from matplotlib import pyplot as plt"
      ],
      "metadata": {
        "id": "aX48llfkBOi3"
      },
      "execution_count": null,
      "outputs": []
    },
    {
      "cell_type": "markdown",
      "source": [
        "## Prepare Data\n",
        "Now download and unzip the data. (Note: If you face any problems for downloading uzing gdown and unzipping, you may also download the data manually using the Goggle Drive links in the code)"
      ],
      "metadata": {
        "id": "WcRTYpszCXkc"
      }
    },
    {
      "cell_type": "code",
      "source": [
        "from zipfile import ZipFile\n",
        "import os\n",
        "import numpy as np\n",
        "import gdown\n",
        "\n",
        "output = 'images.zip'\n",
        "url= \"https://drive.google.com/file/d/1UYI8pNkuFqcOyQtnsMMXwbh92GuiMIfo/view?usp=sharing\"\n",
        "gdown.download(url, output, quiet=True)\n",
        "output = 'masks.zip'\n",
        "url= \"https://drive.google.com/file/d/1mYB32-cZwZEUyHogNZv-Y4eaPbRxXaHt/view?usp=sharing\"\n",
        "gdown.download(url, output, quiet=True)"
      ],
      "metadata": {
        "id": "h7mTQq-4CXAk"
      },
      "execution_count": null,
      "outputs": []
    },
    {
      "cell_type": "code",
      "source": [
        "import zipfile\n",
        "\n",
        "zip_ref = zipfile.ZipFile(\"images.zip\", \"r\")\n",
        "zip_ref.extractall()\n",
        "zip_ref.close()\n",
        "\n",
        "zip_ref = zipfile.ZipFile(\"masks.zip\", \"r\")\n",
        "zip_ref.extractall()\n",
        "zip_ref.close()\n",
        "images = np.load('images_medseg.npy').astype(np.float32)\n",
        "masks = np.load('masks_medseg.npy').astype(np.float32)"
      ],
      "metadata": {
        "id": "likut29VDc91"
      },
      "execution_count": null,
      "outputs": []
    },
    {
      "cell_type": "code",
      "source": [
        "print(\"Images Shape:\", images.shape)\n",
        "print(\"Masks Shape:\", masks.shape)"
      ],
      "metadata": {
        "id": "B_u5yj25MHww"
      },
      "execution_count": null,
      "outputs": []
    },
    {
      "cell_type": "markdown",
      "source": [
        "The dataset consists of 100 CT images with size 512*512. In the Masks data,for each image 4 masks are provided with different meanings. The first mask (index 0) is the ground glass opacity class, indicating the regions affected by COVID-19. Also, the last mask (index 4) is the background class.\n",
        "\n",
        "You can see the visulaiztion of a few of the CT images, and their given masks using the code below. In this assignment, use the first mask (ground glass opacity) for the segmentation task (You may also test it on other classes if you like too!)"
      ],
      "metadata": {
        "id": "RXzZmg12Lutd"
      }
    },
    {
      "cell_type": "code",
      "source": [
        "import matplotlib.pyplot as plt\n",
        "\n",
        "plt.style.use(\"dark_background\")\n",
        "\n",
        "def visualize(image_batch, mask_batch=None, pred_batch=None, num_samples=8):\n",
        "    num_classes = mask_batch.shape[-1] if mask_batch is not None else 0\n",
        "    fix, ax = plt.subplots(num_classes + 1, num_samples, figsize=(num_samples * 2, (num_classes + 1) * 2))\n",
        "    for i in range(num_samples):\n",
        "        ax_image = ax[0, i] if num_classes > 0 else ax[i]\n",
        "        ax_image.imshow(image_batch[i,:,:,0], cmap=\"Greys\")\n",
        "        ax_image.set_xticks([]) \n",
        "        ax_image.set_yticks([])\n",
        "        \n",
        "        if mask_batch is not None:\n",
        "            for j in range(num_classes):\n",
        "                if pred_batch is None:\n",
        "                    #print(j)\n",
        "                    mask_to_show = mask_batch[i,:,:,j]\n",
        "                else:\n",
        "                    mask_to_show = np.zeros(shape=(*mask_batch.shape[1:-1], 3)) \n",
        "                    mask_to_show[..., 0] = pred_batch[i,:,:,j] > 0.5\n",
        "                    mask_to_show[..., 1] = mask_batch[i,:,:,j]\n",
        "                ax[j + 1, i].imshow(mask_to_show, vmin=0, vmax=1)\n",
        "                ax[j + 1, i].set_xticks([]) \n",
        "                ax[j + 1, i].set_yticks([]) \n",
        "\n",
        "    plt.tight_layout()\n",
        "    plt.show()\n",
        "\n",
        "\n",
        "visualize(images, masks)"
      ],
      "metadata": {
        "id": "uF_DC5EnD5sf"
      },
      "execution_count": null,
      "outputs": []
    },
    {
      "cell_type": "markdown",
      "source": [
        "## Create Your Dataset Class (10%)"
      ],
      "metadata": {
        "id": "mmD5JWeCE85P"
      }
    },
    {
      "cell_type": "code",
      "source": [
        "import torch\n",
        "\n",
        "class Dataset(torch.utils.data.Dataset):\n",
        "\n",
        "  ## TODO: Implement your dataset here (you may implement it based on torch.utils.data.Dataset).\n",
        "  return None\n",
        "\n",
        "# TODO: Instatntiate your dataset here\n",
        "dataset = Dataset(None)"
      ],
      "metadata": {
        "id": "sIZsDGeCE6ci"
      },
      "execution_count": null,
      "outputs": []
    },
    {
      "cell_type": "markdown",
      "source": [
        "## Split Dataset and Dataloader (5%)\n",
        "\n",
        "In this part, split the dataset (80% train, 10% validation, 10% test). Then, create your train and validation DataLoader, using random shuffle and batch size of 4."
      ],
      "metadata": {
        "id": "8KtSUMvDDgZq"
      }
    },
    {
      "cell_type": "code",
      "source": [
        "from torch.utils.data import random_split\n",
        "from torch.utils.data import DataLoader\n",
        "\n",
        "# TODO: Split the train and validation data and create dataloaders"
      ],
      "metadata": {
        "id": "yDkXd_0NPmPA"
      },
      "execution_count": null,
      "outputs": []
    },
    {
      "cell_type": "markdown",
      "source": [
        "## Implement your U-Net (45%)\n",
        "\n",
        "In this section implement your U-Net model, inherited from torch.nn.Module.\n",
        "\n",
        "In the next text cell, explain the architecture of the implemented U-Net. Then, complete the code cell to creat your class."
      ],
      "metadata": {
        "id": "eUOd1wHpQhyD"
      }
    },
    {
      "cell_type": "markdown",
      "source": [
        "Explain Here:"
      ],
      "metadata": {
        "id": "Tslfut0DRNc0"
      }
    },
    {
      "cell_type": "code",
      "source": [
        "class UNet(nn.Module):\n",
        "    def __init__(self, channels_in, num_classes):\n",
        "        super(UNet, self).__init__()\n",
        "        # TODO: Initialize the model\n",
        "        \n",
        "\n",
        "    def forward(self, x):\n",
        "      # TODO: Implement the forward function  \n",
        "      return None"
      ],
      "metadata": {
        "id": "m_qqcjtvRPoA"
      },
      "execution_count": null,
      "outputs": []
    },
    {
      "cell_type": "markdown",
      "source": [
        "## IOU (5%)\n",
        "In this section, implement the function calculating IOU (Intersection Over Union) for a given prediction (your model's output) and target (ground-truth labels)."
      ],
      "metadata": {
        "id": "LpDMJZQzTPrC"
      }
    },
    {
      "cell_type": "code",
      "source": [
        "def IoU(output, target):\n",
        "  # TODO: Implement IOU\n",
        "  Return None"
      ],
      "metadata": {
        "id": "iZx2P-OsTiaC"
      },
      "execution_count": null,
      "outputs": []
    },
    {
      "cell_type": "markdown",
      "source": [
        "## Define your model, optimizer, and loss function (5%)\n",
        "\n",
        "Instantiate your model. Also, set your optimizer to Adam optimizer, and your criterion to Bincry Cross-Entropy Loss."
      ],
      "metadata": {
        "id": "_rrKxvp3TwiY"
      }
    },
    {
      "cell_type": "code",
      "source": [
        "device = torch.device('cuda' if torch.cuda.is_available() else 'cpu')\n",
        "model = None\n",
        "model.to(device)\n",
        "optimizer = None\n",
        "criterion = None"
      ],
      "metadata": {
        "id": "O4B02vAtUCva"
      },
      "execution_count": null,
      "outputs": []
    },
    {
      "cell_type": "markdown",
      "source": [
        "## Train and test function (25%)\n",
        "\n",
        "Train your model for a desired number of epochs (at least 15). At each epoch, run your model on the validation data (reporting the loss and IOU value), and save the model which has the best average IOU on the validation set. Finally, report the average IOU on the target data.\n",
        "\n",
        "During training, also plot the train loss values, average IOU on the train data, and avergae IOU on the validation data per epochs."
      ],
      "metadata": {
        "id": "kaFC_cZgVM9j"
      }
    },
    {
      "cell_type": "code",
      "source": [
        "def train(model, train_dataloader, validation_dataloader, num_epochs):\n",
        "    # TODO: Implement your train function here.\n",
        "\n",
        "\n",
        "def test(model, test-dataloader):\n",
        "    # TODO: Implement your test function here.  \n",
        "            "
      ],
      "metadata": {
        "id": "tJjuiXkbToJV"
      },
      "execution_count": null,
      "outputs": []
    },
    {
      "cell_type": "code",
      "source": [
        "# TODO: run the train and test functions and draw the required outputs.\n",
        "# To get the full point from this part, you should get IOU above 0.9"
      ],
      "metadata": {
        "id": "0znXmO9wYz6Z"
      },
      "execution_count": null,
      "outputs": []
    },
    {
      "cell_type": "markdown",
      "source": [
        "## Visualize the models output on 4 of target images (5%)\n",
        "\n",
        "Run the model on 4 samples from the target set. Visualize the outcome by plotting the groud-truth labels, model's predicition, and the difference between them."
      ],
      "metadata": {
        "id": "XUEmKotCZLPU"
      }
    },
    {
      "cell_type": "code",
      "source": [
        "# TODO: Run the model on 4 samples from target set, Visualize the labels and predictions, and compare them"
      ],
      "metadata": {
        "id": "7AW5oeQYZn-k"
      },
      "execution_count": null,
      "outputs": []
    },
    {
      "cell_type": "markdown",
      "source": [
        "## Improve U-Net (Bonus) (10%)\n",
        "\n",
        "In this bnous part, you can add your ideas for improving your model's performance. As an idea, you can search about exploiting IOU metric in the loss function. (you may use other ideas as well!) "
      ],
      "metadata": {
        "id": "Q5aKcR3XZ1St"
      }
    },
    {
      "cell_type": "code",
      "source": [
        "# TODO: Improve U-NET"
      ],
      "metadata": {
        "id": "EZqfga9uZyCh"
      },
      "execution_count": null,
      "outputs": []
    }
  ]
}